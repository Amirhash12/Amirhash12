{
 "cells": [
  {
   "cell_type": "markdown",
   "id": "c09452b8",
   "metadata": {},
   "source": [
    "Question 1:\n",
    "\n",
    "You are managing the distribution of products from a warehouse to multiple retail stores. You want to determine the optimal distribution plan to minimize transportation costs. You have the following information:\n",
    "\n",
    "The warehouse has a fixed supply capacity of 200 units.\n",
    "There are three retail stores: Store A, Store B, and Store C.\n",
    "The demand at each store is 80 units for Store A, 50 units for Store B, and 70 units for Store C.\n",
    "The transportation cost per unit from the warehouse to each store is as follows:\n",
    "Store A: $5 per unit /\n",
    "Store B: $7 per unit / \n",
    "Store C: $6 per unit /\n",
    "You want to find the optimal number of units to be shipped to each store to minimize the transportation costs while meeting the demand requirements."
   ]
  },
  {
   "cell_type": "code",
   "execution_count": 4,
   "id": "324ba9a8",
   "metadata": {},
   "outputs": [
    {
     "name": "stdout",
     "output_type": "stream",
     "text": [
      "Optimal Units Shipped to Store A: 80.0\n",
      "Optimal Units Shipped to Store B: 50.0\n",
      "Optimal Units Shipped to Store C: 70.0\n",
      "Optimal Transportation Cost: 1170.0\n"
     ]
    }
   ],
   "source": [
    "from docplex.mp.model import Model\n",
    "\n",
    "# Create a model\n",
    "model = Model(name='Distribution_Optimization')\n",
    "\n",
    "# Decision variables\n",
    "units_to_store_a = model.integer_var(name='Units_to_Store_A')\n",
    "units_to_store_b = model.integer_var(name='Units_to_Store_B')\n",
    "units_to_store_c = model.integer_var(name='Units_to_Store_C')\n",
    "\n",
    "# Objective function: Minimize transportation costs\n",
    "transportation_cost = 5 * units_to_store_a + 7 * units_to_store_b + 6 * units_to_store_c\n",
    "model.minimize(transportation_cost)\n",
    "\n",
    "# Constraints\n",
    "# Supply constraint\n",
    "model.add_constraint(units_to_store_a + units_to_store_b + units_to_store_c <= 200, 'Supply_Constraint')\n",
    "\n",
    "# Demand constraints\n",
    "model.add_constraint(units_to_store_a >= 80, 'Demand_Store_A')\n",
    "model.add_constraint(units_to_store_b >= 50, 'Demand_Store_B')\n",
    "model.add_constraint(units_to_store_c >= 70, 'Demand_Store_C')\n",
    "\n",
    "# Solve the model\n",
    "model.solve()\n",
    "\n",
    "# Display the results\n",
    "print(f\"Optimal Units Shipped to Store A: {units_to_store_a.solution_value}\")\n",
    "print(f\"Optimal Units Shipped to Store B: {units_to_store_b.solution_value}\")\n",
    "print(f\"Optimal Units Shipped to Store C: {units_to_store_c.solution_value}\")\n",
    "print(f\"Optimal Transportation Cost: {model.objective_value}\")\n"
   ]
  }
 ],
 "metadata": {
  "kernelspec": {
   "display_name": "Python 3 (ipykernel)",
   "language": "python",
   "name": "python3"
  },
  "language_info": {
   "codemirror_mode": {
    "name": "ipython",
    "version": 3
   },
   "file_extension": ".py",
   "mimetype": "text/x-python",
   "name": "python",
   "nbconvert_exporter": "python",
   "pygments_lexer": "ipython3",
   "version": "3.10.13"
  }
 },
 "nbformat": 4,
 "nbformat_minor": 5
}
