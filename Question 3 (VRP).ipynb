{
 "cells": [
  {
   "cell_type": "markdown",
   "id": "c09452b8",
   "metadata": {},
   "source": [
    "Question 3-Vehicle Routing Problem (VRP):\n",
    "\n",
    "You are a delivery manager for a small company with a single depot and a fleet of three delivery trucks. There are seven customer locations that need to be visited for deliveries. Each customer has a known demand for your product, and each truck has a maximum capacity. Your goal is to find an optimal route for each truck to serve all customers while minimizing the total distance traveled.\n",
    "\n",
    "Information:\n",
    "\n",
    "Depot Location: (0, 0)/\n",
    "Customer Locations:\n",
    "Customer 1: (1, 2) with a demand of 3 units./\n",
    "Customer 2: (2, 4) with a demand of 4 units./\n",
    "Customer 3: (3, 5) with a demand of 2 units./\n",
    "Customer 4: (5, 7) with a demand of 3 units./\n",
    "Customer 5: (6, 8) with a demand of 5 units./\n",
    "Customer 6: (8, 5) with a demand of 2 units./\n",
    "Customer 7: (9, 2) with a demand of 4 units./\n",
    "\n",
    "Truck Capacities: Each truck can carry up to 6 units.\n",
    "\n",
    "Traveling between locations follows the Euclidean distance.\n",
    "\n",
    "\n",
    "Your task is to find the optimal routes for the three trucks to serve all customers, taking into account the truck capacities and minimizing the total distance traveled."
   ]
  },
  {
   "cell_type": "code",
   "execution_count": 8,
   "id": "324ba9a8",
   "metadata": {},
   "outputs": [
    {
     "name": "stdout",
     "output_type": "stream",
     "text": [
      "Truck travels from customer 0 to customer 1\n",
      "Truck travels from customer 0 to customer 2\n",
      "Truck travels from customer 0 to customer 3\n",
      "Total Distance: 12.53915582734467\n"
     ]
    }
   ],
   "source": [
    "import cplex\n",
    "from docplex.mp.model import Model\n",
    "\n",
    "# Model\n",
    "model = Model(name='Vehicle_Routing_Problem')\n",
    "\n",
    "# the customer locations and demands, including the depot (customer 0)\n",
    "customers = {\n",
    "    0: (0, 0, 0),  \n",
    "    1: (1, 2, 3),\n",
    "    2: (2, 4, 4),\n",
    "    3: (3, 5, 2),\n",
    "    4: (5, 7, 3),\n",
    "    5: (6, 8, 5),\n",
    "    6: (8, 5, 2),\n",
    "    7: (9, 2, 4),\n",
    "}\n",
    "\n",
    "# the number of trucks and their capacity\n",
    "num_trucks = 3\n",
    "truck_capacity = 6\n",
    "\n",
    "# Decision variables for each edge\n",
    "x = {(i, j): model.binary_var(name=f'x_{i}_{j}') for i in customers for j in customers if i != j}\n",
    "u = {i: model.integer_var(lb=0, ub=truck_capacity, name=f'u_{i}') for i in customers if i != 0}\n",
    "\n",
    "# Objective: Minimize the total distance\n",
    "model.minimize(model.sum(x[i, j] * ((customers[i][0] - customers[j][0]) ** 2 + (customers[i][1] - customers[j][1]) ** 2) ** 0.5 for i in customers for j in customers if i != j))\n",
    "\n",
    "# Constraints\n",
    "for i in customers:\n",
    "    if i != 0:  # Exclude the depot\n",
    "        model.add_constraint(u[i] >= customers[i][2], ctname=f'Demand_{i}')\n",
    "        model.add_constraint(u[i] <= truck_capacity, ctname=f'Capacity_{i}')\n",
    "\n",
    "# Subtour elimination\n",
    "for i in customers:\n",
    "    for j in customers:\n",
    "        if i != j and i != 0 and j != 0:\n",
    "            model.add_constraint(u[i] - u[j] + (truck_capacity - 1) * x[i, j] <= truck_capacity - 1, ctname=f'SubTour_{i}_{j}')\n",
    "\n",
    "# Set the maximum number of trucks used\n",
    "model.add_constraint(model.sum(x[0, j] for j in customers if j != 0) == num_trucks, ctname='Trucks')\n",
    "\n",
    "# Solve\n",
    "model.solve()\n",
    "\n",
    "# Results\n",
    "for i in customers:\n",
    "    for j in customers:\n",
    "        if i != j and x[i, j].solution_value == 1:\n",
    "            print(f'Truck travels from customer {i} to customer {j}')\n",
    "\n",
    "# Total distance traveled\n",
    "print(f'Total Distance: {model.objective_value}')\n"
   ]
  }
 ],
 "metadata": {
  "kernelspec": {
   "display_name": "Python 3 (ipykernel)",
   "language": "python",
   "name": "python3"
  },
  "language_info": {
   "codemirror_mode": {
    "name": "ipython",
    "version": 3
   },
   "file_extension": ".py",
   "mimetype": "text/x-python",
   "name": "python",
   "nbconvert_exporter": "python",
   "pygments_lexer": "ipython3",
   "version": "3.10.13"
  }
 },
 "nbformat": 4,
 "nbformat_minor": 5
}
