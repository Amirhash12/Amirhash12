{
 "cells": [
  {
   "cell_type": "markdown",
   "id": "c09452b8",
   "metadata": {},
   "source": [
    "Question 2:\n",
    "\n",
    "You are managing the distribution of products from multiple warehouses to multiple retail stores. The goal is to determine the optimal distribution plan to minimize transportation costs. You have the following information:\n",
    "\n",
    "Warehouses:\n",
    "Warehouse 1 with a supply capacity of 300 units./\n",
    "Warehouse 2 with a supply capacity of 250 units./\n",
    "\n",
    "Retail Stores:\n",
    "Store A with a demand of 120 units./\n",
    "Store B with a demand of 80 units./\n",
    "Store C with a demand of 150 units./\n",
    "Store D with a demand of 100 units./\n",
    "\n",
    "Transportation Costs:\n",
    "The transportation cost per unit from each warehouse to each store is as follows:\n",
    "From Warehouse 1 to Store A: $6 per unit/\n",
    "From Warehouse 1 to Store B: $8 per unit/\n",
    "From Warehouse 1 to Store C: $7 per unit/\n",
    "From Warehouse 1 to Store D: $9 per unit/\n",
    "From Warehouse 2 to Store A: $9 per unit/\n",
    "From Warehouse 2 to Store B: $7 per unit/\n",
    "From Warehouse 2 to Store C: $5 per unit/\n",
    "From Warehouse 2 to Store D: $6 per unit/\n",
    "You want to find the optimal distribution plan that minimizes transportation costs while meeting the demand requirements and respecting the supply capacities at both warehouses."
   ]
  },
  {
   "cell_type": "code",
   "execution_count": 6,
   "id": "324ba9a8",
   "metadata": {},
   "outputs": [
    {
     "name": "stdout",
     "output_type": "stream",
     "text": [
      "Units Shipped from Warehouse1 to StoreA: 120.0\n",
      "Units Shipped from Warehouse1 to StoreB: 80.0\n",
      "Units Shipped from Warehouse1 to StoreC: 0\n",
      "Units Shipped from Warehouse1 to StoreD: 0\n",
      "Units Shipped from Warehouse2 to StoreA: 0\n",
      "Units Shipped from Warehouse2 to StoreB: 0\n",
      "Units Shipped from Warehouse2 to StoreC: 150.0\n",
      "Units Shipped from Warehouse2 to StoreD: 100.0\n",
      "Optimal Transportation Cost: 2710.0\n"
     ]
    }
   ],
   "source": [
    "from docplex.mp.model import Model\n",
    "\n",
    "# Model\n",
    "model = Model(name='Distribution_Optimization')\n",
    "\n",
    "# Decision variables\n",
    "warehouses = ['Warehouse1', 'Warehouse2']\n",
    "stores = ['StoreA', 'StoreB', 'StoreC', 'StoreD']\n",
    "\n",
    "units_shipped = {(w, s): model.integer_var(name=f'Units_{w}_{s}') for w in warehouses for s in stores}\n",
    "\n",
    "# Objective function: Minimize transportation costs\n",
    "transportation_cost = model.sum(6 * units_shipped['Warehouse1', 'StoreA']\n",
    "                                + 8 * units_shipped['Warehouse1', 'StoreB']\n",
    "                                + 7 * units_shipped['Warehouse1', 'StoreC']\n",
    "                                + 9 * units_shipped['Warehouse1', 'StoreD']\n",
    "                                + 9 * units_shipped['Warehouse2', 'StoreA']\n",
    "                                + 7 * units_shipped['Warehouse2', 'StoreB']\n",
    "                                + 5 * units_shipped['Warehouse2', 'StoreC']\n",
    "                                + 6 * units_shipped['Warehouse2', 'StoreD'])\n",
    "model.minimize(transportation_cost)\n",
    "\n",
    "# Constraints\n",
    "# Supply constraints for each warehouse\n",
    "model.add_constraint(model.sum(units_shipped['Warehouse1', s] for s in stores) <= 300, 'Supply_Warehouse1')\n",
    "model.add_constraint(model.sum(units_shipped['Warehouse2', s] for s in stores) <= 250, 'Supply_Warehouse2')\n",
    "\n",
    "# Demand constraints for each store\n",
    "demand = {'StoreA': 120, 'StoreB': 80, 'StoreC': 150, 'StoreD': 100}\n",
    "for s in stores:\n",
    "    model.add_constraint(model.sum(units_shipped[w, s] for w in warehouses) >= demand[s], f'Demand_{s}')\n",
    "\n",
    "# Solve\n",
    "model.solve()\n",
    "\n",
    "# Results\n",
    "for w in warehouses:\n",
    "    for s in stores:\n",
    "        print(f\"Units Shipped from {w} to {s}: {units_shipped[w, s].solution_value}\")\n",
    "print(f\"Optimal Transportation Cost: {model.objective_value}\")\n"
   ]
  }
 ],
 "metadata": {
  "kernelspec": {
   "display_name": "Python 3 (ipykernel)",
   "language": "python",
   "name": "python3"
  },
  "language_info": {
   "codemirror_mode": {
    "name": "ipython",
    "version": 3
   },
   "file_extension": ".py",
   "mimetype": "text/x-python",
   "name": "python",
   "nbconvert_exporter": "python",
   "pygments_lexer": "ipython3",
   "version": "3.10.13"
  }
 },
 "nbformat": 4,
 "nbformat_minor": 5
}
